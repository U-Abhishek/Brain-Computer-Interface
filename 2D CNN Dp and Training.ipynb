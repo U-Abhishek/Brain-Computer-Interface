{
 "cells": [
  {
   "cell_type": "code",
   "execution_count": 50,
   "id": "07cf1290",
   "metadata": {},
   "outputs": [],
   "source": [
    "## analyse the data\n",
    "import mne\n",
    "import numpy as np\n",
    "import matplotlib.pyplot as plt"
   ]
  },
  {
   "cell_type": "markdown",
   "id": "22092d00",
   "metadata": {},
   "source": [
    "# Loading all subjects data and converting into numpy array"
   ]
  },
  {
   "cell_type": "code",
   "execution_count": 233,
   "id": "e885237a",
   "metadata": {},
   "outputs": [],
   "source": [
    "def read_data(path):\n",
    "    raw=mne.io.read_raw_gdf(path,preload=True)\n",
    "    raw.set_eeg_reference()\n",
    "    events=mne.events_from_annotations(raw)\n",
    "    epochs = mne.Epochs(raw, events[0], event_id=[3,6],tmin= 2, tmax=3, baseline=(None,3),on_missing ='warn')\n",
    "    labels=epochs.events[:,-1]\n",
    "    features=epochs.get_data()\n",
    "    return features,labels"
   ]
  },
  {
   "cell_type": "code",
   "execution_count": 234,
   "id": "1258ca4d",
   "metadata": {},
   "outputs": [],
   "source": [
    "%%capture\n",
    "features,labels,groups=[],[],[]\n",
    "for i in range(1,4):\n",
    "    feature,label=read_data(f'IIIa gdf format/subject{i}.gdf')\n",
    "    features.append(feature)\n",
    "    labels.append(label)\n",
    "    groups.append([i]*len(label))"
   ]
  },
  {
   "cell_type": "code",
   "execution_count": 235,
   "id": "6057213f",
   "metadata": {},
   "outputs": [
    {
     "data": {
      "text/plain": [
       "((210, 60, 251), (210,), (210,))"
      ]
     },
     "execution_count": 235,
     "metadata": {},
     "output_type": "execute_result"
    }
   ],
   "source": [
    "features=np.concatenate(features)\n",
    "labels=np.concatenate(labels)\n",
    "groups=np.concatenate(groups)\n",
    "\n",
    "features.shape,labels.shape,groups.shape"
   ]
  },
  {
   "cell_type": "code",
   "execution_count": 236,
   "id": "0b9bb8e9",
   "metadata": {},
   "outputs": [
    {
     "data": {
      "text/plain": [
       "(array([3, 6]), array([105, 105], dtype=int64))"
      ]
     },
     "execution_count": 236,
     "metadata": {},
     "output_type": "execute_result"
    }
   ],
   "source": [
    "unique, counts = np.unique(labels, return_counts=True)\n",
    "unique, counts"
   ]
  },
  {
   "cell_type": "code",
   "execution_count": 237,
   "id": "27aa0eee",
   "metadata": {},
   "outputs": [
    {
     "data": {
      "text/plain": [
       "(array([1, 2, 3]), array([90, 60, 60], dtype=int64))"
      ]
     },
     "execution_count": 237,
     "metadata": {},
     "output_type": "execute_result"
    }
   ],
   "source": [
    "unique, counts = np.unique(groups, return_counts=True)\n",
    "unique, counts"
   ]
  },
  {
   "cell_type": "markdown",
   "id": "5a06fb0f",
   "metadata": {},
   "source": [
    "# Tensorflow pre processing"
   ]
  },
  {
   "cell_type": "code",
   "execution_count": 238,
   "id": "7a439376",
   "metadata": {},
   "outputs": [],
   "source": [
    "from sklearn.model_selection import train_test_split\n",
    "import tensorflow as tf\n",
    "from sklearn import preprocessing"
   ]
  },
  {
   "cell_type": "code",
   "execution_count": 248,
   "id": "13cf9347",
   "metadata": {},
   "outputs": [],
   "source": [
    "lb = preprocessing.LabelBinarizer()\n",
    "\n",
    "#enc_df= enc.fit_transform(dataset['60'])\n",
    "enc_labels =  lb.fit_transform(labels)"
   ]
  },
  {
   "cell_type": "code",
   "execution_count": 274,
   "id": "65cd13dd",
   "metadata": {},
   "outputs": [],
   "source": [
    "X_train, X_test, Y_train, Y_test = train_test_split(features, enc_labels, test_size=0.2, random_state=42)"
   ]
  },
  {
   "cell_type": "code",
   "execution_count": 275,
   "id": "5ec1e6db",
   "metadata": {},
   "outputs": [
    {
     "data": {
      "text/plain": [
       "((168, 60, 251), (168, 1), (42, 60, 251), (42, 1))"
      ]
     },
     "execution_count": 275,
     "metadata": {},
     "output_type": "execute_result"
    }
   ],
   "source": [
    "X_train.shape , Y_train.shape,X_test.shape, Y_test.shape"
   ]
  },
  {
   "cell_type": "code",
   "execution_count": 276,
   "id": "f71d456c",
   "metadata": {},
   "outputs": [],
   "source": [
    "x_train = tf.convert_to_tensor(X_train)\n",
    "y_train = tf.convert_to_tensor(Y_train)\n",
    "x_test = tf.convert_to_tensor(X_test)\n",
    "y_test = tf.convert_to_tensor(Y_test)"
   ]
  },
  {
   "cell_type": "code",
   "execution_count": 277,
   "id": "a2d9d09a",
   "metadata": {},
   "outputs": [
    {
     "data": {
      "text/plain": [
       "(TensorShape([168, 60, 251]),\n",
       " TensorShape([168, 1]),\n",
       " TensorShape([42, 60, 251]),\n",
       " TensorShape([42, 1]))"
      ]
     },
     "execution_count": 277,
     "metadata": {},
     "output_type": "execute_result"
    }
   ],
   "source": [
    "x_train.shape , y_train.shape,x_test.shape, y_test.shape"
   ]
  },
  {
   "cell_type": "code",
   "execution_count": 278,
   "id": "af06d0f8",
   "metadata": {},
   "outputs": [],
   "source": [
    "from EEGModels import *"
   ]
  },
  {
   "cell_type": "markdown",
   "id": "8ce6ba40",
   "metadata": {},
   "source": [
    "# EEGNet"
   ]
  },
  {
   "cell_type": "code",
   "execution_count": 279,
   "id": "4021c66c",
   "metadata": {},
   "outputs": [],
   "source": [
    "def EEGNet(nb_classes, Chans = 64, Samples = 128, \n",
    "             dropoutRate = 0.5, kernLength = 64, F1 = 8, \n",
    "             D = 2, F2 = 16, norm_rate = 0.25, dropoutType = 'Dropout'):\n",
    "    \"\"\" Keras Implementation of EEGNet\n",
    "    http://iopscience.iop.org/article/10.1088/1741-2552/aace8c/meta\n",
    "\n",
    "    Note that this implements the newest version of EEGNet and NOT the earlier\n",
    "    version (version v1 and v2 on arxiv). We strongly recommend using this\n",
    "    architecture as it performs much better and has nicer properties than\n",
    "    our earlier version. For example:\n",
    "        \n",
    "        1. Depthwise Convolutions to learn spatial filters within a \n",
    "        temporal convolution. The use of the depth_multiplier option maps \n",
    "        exactly to the number of spatial filters learned within a temporal\n",
    "        filter. This matches the setup of algorithms like FBCSP which learn \n",
    "        spatial filters within each filter in a filter-bank. This also limits \n",
    "        the number of free parameters to fit when compared to a fully-connected\n",
    "        convolution. \n",
    "        \n",
    "        2. Separable Convolutions to learn how to optimally combine spatial\n",
    "        filters across temporal bands. Separable Convolutions are Depthwise\n",
    "        Convolutions followed by (1x1) Pointwise Convolutions. \n",
    "        \n",
    "    \n",
    "    While the original paper used Dropout, we found that SpatialDropout2D \n",
    "    sometimes produced slightly better results for classification of ERP \n",
    "    signals. However, SpatialDropout2D significantly reduced performance \n",
    "    on the Oscillatory dataset (SMR, BCI-IV Dataset 2A). We recommend using\n",
    "    the default Dropout in most cases.\n",
    "        \n",
    "    Assumes the input signal is sampled at 128Hz. If you want to use this model\n",
    "    for any other sampling rate you will need to modify the lengths of temporal\n",
    "    kernels and average pooling size in blocks 1 and 2 as needed (double the \n",
    "    kernel lengths for double the sampling rate, etc). Note that we haven't \n",
    "    tested the model performance with this rule so this may not work well. \n",
    "    \n",
    "    The model with default parameters gives the EEGNet-8,2 model as discussed\n",
    "    in the paper. This model should do pretty well in general, although it is\n",
    "\tadvised to do some model searching to get optimal performance on your\n",
    "\tparticular dataset.\n",
    "\n",
    "    We set F2 = F1 * D (number of input filters = number of output filters) for\n",
    "    the SeparableConv2D layer. We haven't extensively tested other values of this\n",
    "    parameter (say, F2 < F1 * D for compressed learning, and F2 > F1 * D for\n",
    "    overcomplete). We believe the main parameters to focus on are F1 and D. \n",
    "\n",
    "    Inputs:\n",
    "        \n",
    "      nb_classes      : int, number of classes to classify\n",
    "      Chans, Samples  : number of channels and time points in the EEG data\n",
    "      dropoutRate     : dropout fraction\n",
    "      kernLength      : length of temporal convolution in first layer. We found\n",
    "                        that setting this to be half the sampling rate worked\n",
    "                        well in practice. For the SMR dataset in particular\n",
    "                        since the data was high-passed at 4Hz we used a kernel\n",
    "                        length of 32.     \n",
    "      F1, F2          : number of temporal filters (F1) and number of pointwise\n",
    "                        filters (F2) to learn. Default: F1 = 8, F2 = F1 * D. \n",
    "      D               : number of spatial filters to learn within each temporal\n",
    "                        convolution. Default: D = 2\n",
    "      dropoutType     : Either SpatialDropout2D or Dropout, passed as a string.\n",
    "\n",
    "    \"\"\"\n",
    "    \n",
    "    if dropoutType == 'SpatialDropout2D':\n",
    "        dropoutType = SpatialDropout2D\n",
    "    elif dropoutType == 'Dropout':\n",
    "        dropoutType = Dropout\n",
    "    else:\n",
    "        raise ValueError('dropoutType must be one of SpatialDropout2D '\n",
    "                         'or Dropout, passed as a string.')\n",
    "    \n",
    "    input1   = Input(shape = (Chans, Samples, 1))\n",
    "\n",
    "    ##################################################################\n",
    "    block1       = Conv2D(F1, (1, kernLength), padding = 'same',\n",
    "                                   input_shape = (Chans, Samples, 1),\n",
    "                                   use_bias = False)(input1)\n",
    "    block1       = BatchNormalization()(block1)\n",
    "    block1       = DepthwiseConv2D((Chans, 1), use_bias = False, \n",
    "                                   depth_multiplier = D,\n",
    "                                   depthwise_constraint = max_norm(1.))(block1)\n",
    "    block1       = BatchNormalization()(block1)\n",
    "    block1       = Activation('elu')(block1)\n",
    "    block1       = AveragePooling2D((1, 4))(block1)\n",
    "    block1       = dropoutType(dropoutRate)(block1)\n",
    "    \n",
    "    block2       = SeparableConv2D(F2, (1, 16),\n",
    "                                   use_bias = False, padding = 'same')(block1)\n",
    "    block2       = BatchNormalization()(block2)\n",
    "    block2       = Activation('elu')(block2)\n",
    "    block2       = AveragePooling2D((1, 8))(block2)\n",
    "    block2       = dropoutType(dropoutRate)(block2)\n",
    "        \n",
    "    flatten      = Flatten(name = 'flatten')(block2)\n",
    "    \n",
    "    dense        = Dense(nb_classes, name = 'dense', \n",
    "                         kernel_constraint = max_norm(norm_rate))(flatten)\n",
    "    softmax      = Activation('sigmoid', name = 'sigmoid')(dense)\n",
    "    \n",
    "    return Model(inputs=input1, outputs=softmax)\n"
   ]
  },
  {
   "cell_type": "code",
   "execution_count": 280,
   "id": "7096c836",
   "metadata": {},
   "outputs": [
    {
     "name": "stdout",
     "output_type": "stream",
     "text": [
      "Model: \"functional_55\"\n",
      "_________________________________________________________________\n",
      "Layer (type)                 Output Shape              Param #   \n",
      "=================================================================\n",
      "input_28 (InputLayer)        [(None, 60, 251, 1)]      0         \n",
      "_________________________________________________________________\n",
      "conv2d_41 (Conv2D)           (None, 60, 251, 8)        512       \n",
      "_________________________________________________________________\n",
      "batch_normalization_80 (Batc (None, 60, 251, 8)        32        \n",
      "_________________________________________________________________\n",
      "depthwise_conv2d_22 (Depthwi (None, 1, 251, 16)        960       \n",
      "_________________________________________________________________\n",
      "batch_normalization_81 (Batc (None, 1, 251, 16)        64        \n",
      "_________________________________________________________________\n",
      "activation_65 (Activation)   (None, 1, 251, 16)        0         \n",
      "_________________________________________________________________\n",
      "average_pooling2d_46 (Averag (None, 1, 62, 16)         0         \n",
      "_________________________________________________________________\n",
      "dropout_58 (Dropout)         (None, 1, 62, 16)         0         \n",
      "_________________________________________________________________\n",
      "separable_conv2d_22 (Separab (None, 1, 62, 16)         512       \n",
      "_________________________________________________________________\n",
      "batch_normalization_82 (Batc (None, 1, 62, 16)         64        \n",
      "_________________________________________________________________\n",
      "activation_66 (Activation)   (None, 1, 62, 16)         0         \n",
      "_________________________________________________________________\n",
      "average_pooling2d_47 (Averag (None, 1, 7, 16)          0         \n",
      "_________________________________________________________________\n",
      "dropout_59 (Dropout)         (None, 1, 7, 16)          0         \n",
      "_________________________________________________________________\n",
      "flatten (Flatten)            (None, 112)               0         \n",
      "_________________________________________________________________\n",
      "dense (Dense)                (None, 1)                 113       \n",
      "_________________________________________________________________\n",
      "sigmoid (Activation)         (None, 1)                 0         \n",
      "=================================================================\n",
      "Total params: 2,257\n",
      "Trainable params: 2,177\n",
      "Non-trainable params: 80\n",
      "_________________________________________________________________\n"
     ]
    }
   ],
   "source": [
    "eegnet = EEGNet(1, features.shape[1],features.shape[2],dropoutRate = 0.5)\n",
    "eegnet.summary()"
   ]
  },
  {
   "cell_type": "code",
   "execution_count": 281,
   "id": "4ceccff0",
   "metadata": {},
   "outputs": [],
   "source": [
    "eegnet.compile(optimizer=tf.keras.optimizers.Adam(learning_rate=0.001),loss = tf.keras.losses.BinaryCrossentropy(),metrics=['accuracy'])"
   ]
  },
  {
   "cell_type": "code",
   "execution_count": 282,
   "id": "76877124",
   "metadata": {
    "scrolled": true
   },
   "outputs": [
    {
     "name": "stdout",
     "output_type": "stream",
     "text": [
      "Epoch 1/50\n",
      "34/34 [==============================] - 2s 56ms/step - loss: 0.6935 - accuracy: 0.4405 - val_loss: 0.6932 - val_accuracy: 0.4762\n",
      "Epoch 2/50\n",
      "34/34 [==============================] - 2s 50ms/step - loss: 0.6936 - accuracy: 0.4464 - val_loss: 0.6932 - val_accuracy: 0.4762\n",
      "Epoch 3/50\n",
      "34/34 [==============================] - ETA: 0s - loss: 0.6932 - accuracy: 0.46 - 2s 52ms/step - loss: 0.6933 - accuracy: 0.4583 - val_loss: 0.6933 - val_accuracy: 0.4762\n",
      "Epoch 4/50\n",
      "34/34 [==============================] - 2s 55ms/step - loss: 0.6932 - accuracy: 0.4762 - val_loss: 0.6933 - val_accuracy: 0.4762\n",
      "Epoch 5/50\n",
      "34/34 [==============================] - 2s 55ms/step - loss: 0.6927 - accuracy: 0.5417 - val_loss: 0.6936 - val_accuracy: 0.4762\n",
      "Epoch 6/50\n",
      "34/34 [==============================] - 2s 56ms/step - loss: 0.6912 - accuracy: 0.5476 - val_loss: 0.6939 - val_accuracy: 0.4762\n",
      "Epoch 7/50\n",
      "34/34 [==============================] - 2s 61ms/step - loss: 0.6883 - accuracy: 0.5536 - val_loss: 0.6953 - val_accuracy: 0.4762\n",
      "Epoch 8/50\n",
      "34/34 [==============================] - 2s 54ms/step - loss: 0.6818 - accuracy: 0.6131 - val_loss: 0.6961 - val_accuracy: 0.4762\n",
      "Epoch 9/50\n",
      "34/34 [==============================] - 2s 53ms/step - loss: 0.6741 - accuracy: 0.5893 - val_loss: 0.6939 - val_accuracy: 0.4762\n",
      "Epoch 10/50\n",
      "34/34 [==============================] - 2s 62ms/step - loss: 0.6676 - accuracy: 0.5833 - val_loss: 0.6947 - val_accuracy: 0.4762\n",
      "Epoch 11/50\n",
      "34/34 [==============================] - 2s 59ms/step - loss: 0.6568 - accuracy: 0.5774 - val_loss: 0.6973 - val_accuracy: 0.4762\n",
      "Epoch 12/50\n",
      "34/34 [==============================] - 2s 59ms/step - loss: 0.6533 - accuracy: 0.6250 - val_loss: 0.6991 - val_accuracy: 0.4762\n",
      "Epoch 13/50\n",
      "34/34 [==============================] - 2s 56ms/step - loss: 0.6420 - accuracy: 0.6726 - val_loss: 0.7009 - val_accuracy: 0.4762\n",
      "Epoch 14/50\n",
      "34/34 [==============================] - 2s 70ms/step - loss: 0.6385 - accuracy: 0.6726 - val_loss: 0.7042 - val_accuracy: 0.4762\n",
      "Epoch 15/50\n",
      "34/34 [==============================] - 2s 67ms/step - loss: 0.6428 - accuracy: 0.6964 - val_loss: 0.7072 - val_accuracy: 0.4762\n",
      "Epoch 16/50\n",
      "34/34 [==============================] - 2s 60ms/step - loss: 0.6294 - accuracy: 0.6964 - val_loss: 0.7159 - val_accuracy: 0.4762\n",
      "Epoch 17/50\n",
      "34/34 [==============================] - 2s 61ms/step - loss: 0.6308 - accuracy: 0.6964 - val_loss: 0.7127 - val_accuracy: 0.4762\n",
      "Epoch 18/50\n",
      "34/34 [==============================] - 2s 69ms/step - loss: 0.6313 - accuracy: 0.6726 - val_loss: 0.7056 - val_accuracy: 0.4762\n",
      "Epoch 19/50\n",
      "34/34 [==============================] - 2s 61ms/step - loss: 0.6205 - accuracy: 0.6905 - val_loss: 0.6996 - val_accuracy: 0.5000\n",
      "Epoch 20/50\n",
      "34/34 [==============================] - 2s 55ms/step - loss: 0.6238 - accuracy: 0.6607 - val_loss: 0.6985 - val_accuracy: 0.5000\n",
      "Epoch 21/50\n",
      "34/34 [==============================] - 2s 54ms/step - loss: 0.6203 - accuracy: 0.6845 - val_loss: 0.6849 - val_accuracy: 0.5476\n",
      "Epoch 22/50\n",
      "34/34 [==============================] - 2s 56ms/step - loss: 0.6115 - accuracy: 0.7202 - val_loss: 0.6763 - val_accuracy: 0.5000\n",
      "Epoch 23/50\n",
      "34/34 [==============================] - 2s 56ms/step - loss: 0.6138 - accuracy: 0.7262 - val_loss: 0.6803 - val_accuracy: 0.5238\n",
      "Epoch 24/50\n",
      "34/34 [==============================] - 2s 54ms/step - loss: 0.6010 - accuracy: 0.6964 - val_loss: 0.8118 - val_accuracy: 0.5238\n",
      "Epoch 25/50\n",
      "34/34 [==============================] - 2s 56ms/step - loss: 0.6075 - accuracy: 0.7024 - val_loss: 0.7885 - val_accuracy: 0.5238\n",
      "Epoch 26/50\n",
      "34/34 [==============================] - 2s 53ms/step - loss: 0.6030 - accuracy: 0.7202 - val_loss: 0.6501 - val_accuracy: 0.5952\n",
      "Epoch 27/50\n",
      "34/34 [==============================] - 2s 54ms/step - loss: 0.6092 - accuracy: 0.6845 - val_loss: 0.7701 - val_accuracy: 0.5238\n",
      "Epoch 28/50\n",
      "34/34 [==============================] - 2s 55ms/step - loss: 0.5876 - accuracy: 0.7083 - val_loss: 0.9810 - val_accuracy: 0.5238\n",
      "Epoch 29/50\n",
      "34/34 [==============================] - 2s 54ms/step - loss: 0.5996 - accuracy: 0.7143 - val_loss: 0.6331 - val_accuracy: 0.6429\n",
      "Epoch 30/50\n",
      "34/34 [==============================] - 2s 64ms/step - loss: 0.5964 - accuracy: 0.7202 - val_loss: 0.6894 - val_accuracy: 0.5476\n",
      "Epoch 31/50\n",
      "34/34 [==============================] - 2s 68ms/step - loss: 0.5874 - accuracy: 0.7440 - val_loss: 0.6582 - val_accuracy: 0.6667\n",
      "Epoch 32/50\n",
      "34/34 [==============================] - 2s 58ms/step - loss: 0.5859 - accuracy: 0.7262 - val_loss: 0.6818 - val_accuracy: 0.5238\n",
      "Epoch 33/50\n",
      "34/34 [==============================] - 2s 51ms/step - loss: 0.5871 - accuracy: 0.7262 - val_loss: 1.4064 - val_accuracy: 0.5238\n",
      "Epoch 34/50\n",
      "34/34 [==============================] - 2s 49ms/step - loss: 0.5828 - accuracy: 0.7202 - val_loss: 0.7274 - val_accuracy: 0.5238\n",
      "Epoch 35/50\n",
      "34/34 [==============================] - 2s 48ms/step - loss: 0.5801 - accuracy: 0.7381 - val_loss: 0.6636 - val_accuracy: 0.5238\n",
      "Epoch 36/50\n",
      "34/34 [==============================] - 2s 48ms/step - loss: 0.5817 - accuracy: 0.7440 - val_loss: 0.7055 - val_accuracy: 0.5238\n",
      "Epoch 37/50\n",
      "34/34 [==============================] - 2s 48ms/step - loss: 0.5892 - accuracy: 0.7262 - val_loss: 0.6713 - val_accuracy: 0.5952\n",
      "Epoch 38/50\n",
      "34/34 [==============================] - 2s 49ms/step - loss: 0.5731 - accuracy: 0.7321 - val_loss: 0.6593 - val_accuracy: 0.5000\n",
      "Epoch 39/50\n",
      "34/34 [==============================] - 2s 48ms/step - loss: 0.5803 - accuracy: 0.7202 - val_loss: 0.7188 - val_accuracy: 0.5238\n",
      "Epoch 40/50\n",
      "34/34 [==============================] - 2s 48ms/step - loss: 0.5700 - accuracy: 0.7857 - val_loss: 0.9221 - val_accuracy: 0.5238\n",
      "Epoch 41/50\n",
      "34/34 [==============================] - 2s 49ms/step - loss: 0.5559 - accuracy: 0.7679 - val_loss: 0.9632 - val_accuracy: 0.5238\n",
      "Epoch 42/50\n",
      "34/34 [==============================] - 2s 48ms/step - loss: 0.5692 - accuracy: 0.7679 - val_loss: 1.0984 - val_accuracy: 0.5238\n",
      "Epoch 43/50\n",
      "34/34 [==============================] - 2s 48ms/step - loss: 0.5571 - accuracy: 0.7500 - val_loss: 0.8602 - val_accuracy: 0.5238\n",
      "Epoch 44/50\n",
      "34/34 [==============================] - 2s 48ms/step - loss: 0.5699 - accuracy: 0.7500 - val_loss: 1.5250 - val_accuracy: 0.5238\n",
      "Epoch 45/50\n",
      "34/34 [==============================] - 2s 48ms/step - loss: 0.5608 - accuracy: 0.7262 - val_loss: 3.0300 - val_accuracy: 0.5238\n",
      "Epoch 46/50\n",
      "34/34 [==============================] - 2s 49ms/step - loss: 0.5589 - accuracy: 0.7321 - val_loss: 2.5000 - val_accuracy: 0.5238\n",
      "Epoch 47/50\n",
      "34/34 [==============================] - 2s 49ms/step - loss: 0.5438 - accuracy: 0.7798 - val_loss: 1.6078 - val_accuracy: 0.5238\n",
      "Epoch 48/50\n",
      "34/34 [==============================] - 2s 48ms/step - loss: 0.5618 - accuracy: 0.7440 - val_loss: 2.0212 - val_accuracy: 0.5238\n",
      "Epoch 49/50\n",
      "34/34 [==============================] - 2s 49ms/step - loss: 0.5628 - accuracy: 0.7202 - val_loss: 2.2018 - val_accuracy: 0.5238\n",
      "Epoch 50/50\n",
      "34/34 [==============================] - 2s 49ms/step - loss: 0.5565 - accuracy: 0.7500 - val_loss: 0.6550 - val_accuracy: 0.5238\n"
     ]
    }
   ],
   "source": [
    "eegnet_history = eegnet.fit(x_train, y_train,epochs=50,batch_size=5,validation_data=(x_test, y_test))"
   ]
  },
  {
   "cell_type": "code",
   "execution_count": 283,
   "id": "729312d4",
   "metadata": {
    "scrolled": true
   },
   "outputs": [
    {
     "data": {
      "text/plain": [
       "[<matplotlib.lines.Line2D at 0x23da186aee0>]"
      ]
     },
     "execution_count": 283,
     "metadata": {},
     "output_type": "execute_result"
    },
    {
     "data": {
      "image/png": "[encoded data removed]",
      "text/plain": [
       "<Figure size 432x288 with 1 Axes>"
      ]
     },
     "metadata": {
      "needs_background": "light"
     },
     "output_type": "display_data"
    }
   ],
   "source": [
    "plt.plot(eegnet_history.history[\"accuracy\"])\n",
    "plt.plot(eegnet_history.history[\"val_accuracy\"])"
   ]
  },
  {
   "cell_type": "code",
   "execution_count": 284,
   "id": "feb4307f",
   "metadata": {},
   "outputs": [
    {
     "data": {
      "text/plain": [
       "[<matplotlib.lines.Line2D at 0x23da18dc4f0>]"
      ]
     },
     "execution_count": 284,
     "metadata": {},
     "output_type": "execute_result"
    },
    {
     "data": {
      "image/png": "[encoded data removed]",
      "text/plain": [
       "<Figure size 432x288 with 1 Axes>"
      ]
     },
     "metadata": {
      "needs_background": "light"
     },
     "output_type": "display_data"
    }
   ],
   "source": [
    "plt.plot(eegnet_history.history[\"loss\"])\n",
    "plt.plot(eegnet_history.history[\"val_loss\"])"
   ]
  },
  {
   "cell_type": "markdown",
   "id": "88e44b84",
   "metadata": {},
   "source": [
    "# DeepConvNet"
   ]
  },
  {
   "cell_type": "code",
   "execution_count": 212,
   "id": "1d4b3e23",
   "metadata": {},
   "outputs": [
    {
     "name": "stdout",
     "output_type": "stream",
     "text": [
      "Model: \"functional_37\"\n",
      "_________________________________________________________________\n",
      "Layer (type)                 Output Shape              Param #   \n",
      "=================================================================\n",
      "input_19 (InputLayer)        [(None, 60, 251, 1)]      0         \n",
      "_________________________________________________________________\n",
      "conv2d_26 (Conv2D)           (None, 60, 247, 25)       150       \n",
      "_________________________________________________________________\n",
      "conv2d_27 (Conv2D)           (None, 1, 247, 25)        37525     \n",
      "_________________________________________________________________\n",
      "batch_normalization_56 (Batc (None, 1, 247, 25)        100       \n",
      "_________________________________________________________________\n",
      "activation_42 (Activation)   (None, 1, 247, 25)        0         \n",
      "_________________________________________________________________\n",
      "max_pooling2d_8 (MaxPooling2 (None, 1, 123, 25)        0         \n",
      "_________________________________________________________________\n",
      "dropout_40 (Dropout)         (None, 1, 123, 25)        0         \n",
      "_________________________________________________________________\n",
      "conv2d_28 (Conv2D)           (None, 1, 119, 50)        6300      \n",
      "_________________________________________________________________\n",
      "batch_normalization_57 (Batc (None, 1, 119, 50)        200       \n",
      "_________________________________________________________________\n",
      "activation_43 (Activation)   (None, 1, 119, 50)        0         \n",
      "_________________________________________________________________\n",
      "max_pooling2d_9 (MaxPooling2 (None, 1, 59, 50)         0         \n",
      "_________________________________________________________________\n",
      "dropout_41 (Dropout)         (None, 1, 59, 50)         0         \n",
      "_________________________________________________________________\n",
      "conv2d_29 (Conv2D)           (None, 1, 55, 100)        25100     \n",
      "_________________________________________________________________\n",
      "batch_normalization_58 (Batc (None, 1, 55, 100)        400       \n",
      "_________________________________________________________________\n",
      "activation_44 (Activation)   (None, 1, 55, 100)        0         \n",
      "_________________________________________________________________\n",
      "max_pooling2d_10 (MaxPooling (None, 1, 27, 100)        0         \n",
      "_________________________________________________________________\n",
      "dropout_42 (Dropout)         (None, 1, 27, 100)        0         \n",
      "_________________________________________________________________\n",
      "conv2d_30 (Conv2D)           (None, 1, 23, 200)        100200    \n",
      "_________________________________________________________________\n",
      "batch_normalization_59 (Batc (None, 1, 23, 200)        800       \n",
      "_________________________________________________________________\n",
      "activation_45 (Activation)   (None, 1, 23, 200)        0         \n",
      "_________________________________________________________________\n",
      "max_pooling2d_11 (MaxPooling (None, 1, 11, 200)        0         \n",
      "_________________________________________________________________\n",
      "dropout_43 (Dropout)         (None, 1, 11, 200)        0         \n",
      "_________________________________________________________________\n",
      "flatten_2 (Flatten)          (None, 2200)              0         \n",
      "_________________________________________________________________\n",
      "dense_2 (Dense)              (None, 4)                 8804      \n",
      "_________________________________________________________________\n",
      "activation_46 (Activation)   (None, 4)                 0         \n",
      "=================================================================\n",
      "Total params: 179,579\n",
      "Trainable params: 178,829\n",
      "Non-trainable params: 750\n",
      "_________________________________________________________________\n"
     ]
    }
   ],
   "source": [
    "deepconvnet = DeepConvNet(4, features.shape[1],features.shape[2],dropoutRate = 0.5)\n",
    "deepconvnet.compile(optimizer=tf.keras.optimizers.Adam(learning_rate=0.005),loss = tf.keras.losses.CategoricalCrossentropy(),metrics=['accuracy'])\n",
    "deepconvnet.summary()"
   ]
  },
  {
   "cell_type": "code",
   "execution_count": 221,
   "id": "77b18112",
   "metadata": {},
   "outputs": [
    {
     "name": "stdout",
     "output_type": "stream",
     "text": [
      "Epoch 1/15\n",
      "189/189 [==============================] - 3s 18ms/step - loss: 1.4435 - accuracy: 0.2725 - val_loss: 63.3956 - val_accuracy: 0.2619\n",
      "Epoch 2/15\n",
      "189/189 [==============================] - 3s 17ms/step - loss: 1.4437 - accuracy: 0.2540 - val_loss: 5.6598 - val_accuracy: 0.1667\n",
      "Epoch 3/15\n",
      "189/189 [==============================] - 3s 18ms/step - loss: 1.4291 - accuracy: 0.2460 - val_loss: 6.6240 - val_accuracy: 0.3810\n",
      "Epoch 4/15\n",
      "189/189 [==============================] - 3s 18ms/step - loss: 1.4421 - accuracy: 0.2646 - val_loss: 1.3567 - val_accuracy: 0.3810\n",
      "Epoch 5/15\n",
      "189/189 [==============================] - 4s 19ms/step - loss: 1.4390 - accuracy: 0.2487 - val_loss: 5.9558 - val_accuracy: 0.2619\n",
      "Epoch 6/15\n",
      "189/189 [==============================] - 4s 19ms/step - loss: 1.4366 - accuracy: 0.2407 - val_loss: 1.4655 - val_accuracy: 0.2381\n",
      "Epoch 7/15\n",
      "189/189 [==============================] - 4s 19ms/step - loss: 1.4367 - accuracy: 0.2487 - val_loss: 1.8789 - val_accuracy: 0.3810\n",
      "Epoch 8/15\n",
      "189/189 [==============================] - 3s 18ms/step - loss: 1.4041 - accuracy: 0.2698 - val_loss: 4.0747 - val_accuracy: 0.2619\n",
      "Epoch 9/15\n",
      "189/189 [==============================] - 4s 19ms/step - loss: 1.4356 - accuracy: 0.2407 - val_loss: 16.1696 - val_accuracy: 0.3810\n",
      "Epoch 10/15\n",
      "189/189 [==============================] - 3s 18ms/step - loss: 1.4416 - accuracy: 0.2169 - val_loss: 2.3177 - val_accuracy: 0.1905\n",
      "Epoch 11/15\n",
      "189/189 [==============================] - 4s 19ms/step - loss: 1.4323 - accuracy: 0.2354 - val_loss: 9.0812 - val_accuracy: 0.2619\n",
      "Epoch 12/15\n",
      "189/189 [==============================] - 3s 18ms/step - loss: 1.4210 - accuracy: 0.2646 - val_loss: 59.8295 - val_accuracy: 0.1667\n",
      "Epoch 13/15\n",
      "189/189 [==============================] - 3s 18ms/step - loss: 1.4242 - accuracy: 0.2381 - val_loss: 2.3753 - val_accuracy: 0.2619\n",
      "Epoch 14/15\n",
      "189/189 [==============================] - 4s 19ms/step - loss: 1.4260 - accuracy: 0.2460 - val_loss: 1.5090 - val_accuracy: 0.1667\n",
      "Epoch 15/15\n",
      "189/189 [==============================] - 3s 18ms/step - loss: 1.4193 - accuracy: 0.2249 - val_loss: 4.1119 - val_accuracy: 0.1905\n"
     ]
    }
   ],
   "source": [
    "deepconvnet_history = deepconvnet.fit(x_train, y_train,epochs=15,batch_size=2,validation_data=(x_test, y_test))"
   ]
  },
  {
   "cell_type": "code",
   "execution_count": 220,
   "id": "4056dd35",
   "metadata": {},
   "outputs": [
    {
     "data": {
      "text/plain": [
       "[<matplotlib.lines.Line2D at 0x23d82d7b160>]"
      ]
     },
     "execution_count": 220,
     "metadata": {},
     "output_type": "execute_result"
    },
    {
     "data": {
      "image/png": "[encoded data removed]",
      "text/plain": [
       "<Figure size 432x288 with 1 Axes>"
      ]
     },
     "metadata": {
      "needs_background": "light"
     },
     "output_type": "display_data"
    }
   ],
   "source": [
    "plt.plot(deepconvnet_history.history[\"accuracy\"])\n",
    "plt.plot(deepconvnet_history.history[\"val_accuracy\"])"
   ]
  },
  {
   "cell_type": "code",
   "execution_count": 224,
   "id": "9b8b84ab",
   "metadata": {},
   "outputs": [
    {
     "name": "stdout",
     "output_type": "stream",
     "text": [
      "Model: \"functional_41\"\n",
      "_________________________________________________________________\n",
      "Layer (type)                 Output Shape              Param #   \n",
      "=================================================================\n",
      "input_21 (InputLayer)        [(None, 60, 251, 1)]      0         \n",
      "_________________________________________________________________\n",
      "conv2d_33 (Conv2D)           (None, 60, 239, 40)       560       \n",
      "_________________________________________________________________\n",
      "conv2d_34 (Conv2D)           (None, 1, 239, 40)        96000     \n",
      "_________________________________________________________________\n",
      "batch_normalization_61 (Batc (None, 1, 239, 40)        160       \n",
      "_________________________________________________________________\n",
      "activation_50 (Activation)   (None, 1, 239, 40)        0         \n",
      "_________________________________________________________________\n",
      "average_pooling2d_33 (Averag (None, 1, 30, 40)         0         \n",
      "_________________________________________________________________\n",
      "activation_51 (Activation)   (None, 1, 30, 40)         0         \n",
      "_________________________________________________________________\n",
      "dropout_45 (Dropout)         (None, 1, 30, 40)         0         \n",
      "_________________________________________________________________\n",
      "flatten_4 (Flatten)          (None, 1200)              0         \n",
      "_________________________________________________________________\n",
      "dense_4 (Dense)              (None, 4)                 4804      \n",
      "_________________________________________________________________\n",
      "activation_52 (Activation)   (None, 4)                 0         \n",
      "=================================================================\n",
      "Total params: 101,524\n",
      "Trainable params: 101,444\n",
      "Non-trainable params: 80\n",
      "_________________________________________________________________\n"
     ]
    }
   ],
   "source": [
    "sconvnet = ShallowConvNet(4, features.shape[1],features.shape[2],dropoutRate = 0.2)\n",
    "sconvnet.compile(optimizer=tf.keras.optimizers.Adam(learning_rate=0.001),\n",
    "                 loss = tf.keras.losses.CategoricalCrossentropy(),\n",
    "                 metrics=['accuracy'])\n",
    "sconvnet.summary()"
   ]
  },
  {
   "cell_type": "code",
   "execution_count": 225,
   "id": "aea1171e",
   "metadata": {},
   "outputs": [
    {
     "name": "stdout",
     "output_type": "stream",
     "text": [
      "Epoch 1/15\n",
      "189/189 [==============================] - 3s 18ms/step - loss: 1.4369 - accuracy: 0.2143 - val_loss: 1.3730 - val_accuracy: 0.3810\n",
      "Epoch 2/15\n",
      "189/189 [==============================] - 4s 20ms/step - loss: 1.4233 - accuracy: 0.2619 - val_loss: 1.9438 - val_accuracy: 0.2619\n",
      "Epoch 3/15\n",
      "189/189 [==============================] - 5s 25ms/step - loss: 1.4184 - accuracy: 0.2698 - val_loss: 1.5019 - val_accuracy: 0.1667\n",
      "Epoch 4/15\n",
      "189/189 [==============================] - 4s 22ms/step - loss: 1.4269 - accuracy: 0.2381 - val_loss: 5.6637 - val_accuracy: 0.1667\n",
      "Epoch 5/15\n",
      "189/189 [==============================] - 4s 23ms/step - loss: 1.4174 - accuracy: 0.2751 - val_loss: 2.3192 - val_accuracy: 0.1667\n",
      "Epoch 6/15\n",
      "189/189 [==============================] - 4s 22ms/step - loss: 1.4377 - accuracy: 0.2275 - val_loss: 1.4799 - val_accuracy: 0.1667\n",
      "Epoch 7/15\n",
      "189/189 [==============================] - 4s 23ms/step - loss: 1.4472 - accuracy: 0.2566 - val_loss: 1.6269 - val_accuracy: 0.1667\n",
      "Epoch 8/15\n",
      "189/189 [==============================] - 4s 23ms/step - loss: 1.4339 - accuracy: 0.2328 - val_loss: 3.0423 - val_accuracy: 0.2619\n",
      "Epoch 9/15\n",
      "189/189 [==============================] - 3s 18ms/step - loss: 1.4326 - accuracy: 0.2407 - val_loss: 2.8087 - val_accuracy: 0.1905\n",
      "Epoch 10/15\n",
      "189/189 [==============================] - 4s 19ms/step - loss: 1.4399 - accuracy: 0.2011 - val_loss: 2.5043 - val_accuracy: 0.3810\n",
      "Epoch 11/15\n",
      "189/189 [==============================] - 4s 21ms/step - loss: 1.4338 - accuracy: 0.2487 - val_loss: 6.5899 - val_accuracy: 0.3810\n",
      "Epoch 12/15\n",
      "189/189 [==============================] - 4s 19ms/step - loss: 1.4346 - accuracy: 0.2222 - val_loss: 1.6921 - val_accuracy: 0.3810\n",
      "Epoch 13/15\n",
      "189/189 [==============================] - 4s 19ms/step - loss: 1.4240 - accuracy: 0.2646 - val_loss: 8.3426 - val_accuracy: 0.3810\n",
      "Epoch 14/15\n",
      "189/189 [==============================] - 3s 18ms/step - loss: 1.4396 - accuracy: 0.2434 - val_loss: 26.9033 - val_accuracy: 0.1667\n",
      "Epoch 15/15\n",
      "189/189 [==============================] - 3s 18ms/step - loss: 1.4315 - accuracy: 0.2513 - val_loss: 1.7573 - val_accuracy: 0.2619\n"
     ]
    }
   ],
   "source": [
    "deepconvnet_history = deepconvnet.fit(x_train, y_train,epochs=15,batch_size=2,validation_data=(x_test, y_test))"
   ]
  },
  {
   "cell_type": "code",
   "execution_count": null,
   "id": "2cfd4f9e",
   "metadata": {},
   "outputs": [],
   "source": []
  }
 ],
 "metadata": {
  "kernelspec": {
   "display_name": "Python 3",
   "language": "python",
   "name": "python3"
  },
  "language_info": {
   "codemirror_mode": {
    "name": "ipython",
    "version": 3
   },
   "file_extension": ".py",
   "mimetype": "text/x-python",
   "name": "python",
   "nbconvert_exporter": "python",
   "pygments_lexer": "ipython3",
   "version": "3.8.10"
  }
 },
 "nbformat": 4,
 "nbformat_minor": 5
}
