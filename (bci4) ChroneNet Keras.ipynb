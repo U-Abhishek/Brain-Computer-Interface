{
 "cells": [
  {
   "cell_type": "code",
   "execution_count": 140,
   "metadata": {
    "id": "Ls1_QPAmusUZ"
   },
   "outputs": [],
   "source": [
    "## analyse the data\n",
    "import mne\n",
    "import numpy as np\n",
    "import matplotlib.pyplot as plt\n",
    "import glob\n",
    "\n",
    "from sklearn.metrics import classification_report\n",
    "import numpy as np\n",
    "from sklearn.metrics import confusion_matrix\n",
    "import seaborn as sns"
   ]
  },
  {
   "cell_type": "code",
   "execution_count": 2,
   "metadata": {
    "colab": {
     "base_uri": "https://localhost:8080/",
     "height": 493
    },
    "id": "rNNd3ANCyKoF",
    "outputId": "d7fd2aeb-5d83-4cd3-edcc-20d52f330716",
    "scrolled": true
   },
   "outputs": [
    {
     "name": "stdout",
     "output_type": "stream",
     "text": [
      "Extracting EDF parameters from C:\\Users\\uabhi\\NEW_MY_JUPYTER\\BCI\\BCI 4 dataset\\BCICIV_2a_gdf\\A01E.gdf...\n",
      "GDF file detected\n",
      "Setting channel info structure...\n",
      "Could not determine channel type of the following channels, they will be set as EEG:\n",
      "EEG-Fz, EEG, EEG, EEG, EEG, EEG, EEG, EEG-C3, EEG, EEG-Cz, EEG, EEG-C4, EEG, EEG, EEG, EEG, EEG, EEG, EEG, EEG-Pz, EEG, EEG\n",
      "Creating raw.info structure...\n"
     ]
    },
    {
     "name": "stderr",
     "output_type": "stream",
     "text": [
      "C:\\Users\\uabhi\\anaconda3\\envs\\tf\\lib\\site-packages\\mne\\io\\edf\\edf.py:1123: DeprecationWarning: The binary mode of fromstring is deprecated, as it behaves surprisingly on unicode inputs. Use frombuffer instead\n",
      "  etmode = np.fromstring(etmode, UINT8).tolist()[0]\n",
      "C:\\Users\\uabhi\\anaconda3\\envs\\tf\\lib\\contextlib.py:120: RuntimeWarning: Channel names are not unique, found duplicates for: {'EEG'}. Applying running numbers for duplicates.\n",
      "  next(self.gen)\n"
     ]
    },
    {
     "data": {
      "text/html": [
       "<table class=\"table table-hover table-striped table-sm table-responsive small\">\n",
       "    <tr>\n",
       "        <th>Measurement date</th>\n",
       "        \n",
       "        <td>January 19, 2005  12:00:00 GMT</td>\n",
       "        \n",
       "    </tr>\n",
       "    <tr>\n",
       "        <th>Experimenter</th>\n",
       "        \n",
       "        <td>Unknown</td>\n",
       "        \n",
       "    </tr>\n",
       "        <th>Participant</th>\n",
       "        \n",
       "        <td>Unknown</td>\n",
       "        \n",
       "    </tr>\n",
       "    <tr>\n",
       "        <th>Digitized points</th>\n",
       "        \n",
       "        <td>0 points</td>\n",
       "        \n",
       "    </tr>\n",
       "    <tr>\n",
       "        <th>Good channels</th>\n",
       "        <td>22 EEG</td>\n",
       "    </tr>\n",
       "    <tr>\n",
       "        <th>Bad channels</th>\n",
       "        <td>None</td>\n",
       "    </tr>\n",
       "    <tr>\n",
       "        <th>EOG channels</th>\n",
       "        <td>Not available</td>\n",
       "    </tr>\n",
       "    <tr>\n",
       "        <th>ECG channels</th>\n",
       "        <td>Not available</td>\n",
       "    \n",
       "    <tr>\n",
       "        <th>Sampling frequency</th>\n",
       "        <td>250.00 Hz</td>\n",
       "    </tr>\n",
       "    \n",
       "    \n",
       "    <tr>\n",
       "        <th>Highpass</th>\n",
       "        <td>0.50 Hz</td>\n",
       "    </tr>\n",
       "    \n",
       "    \n",
       "    <tr>\n",
       "        <th>Lowpass</th>\n",
       "        <td>100.00 Hz</td>\n",
       "    </tr>\n",
       "    \n",
       "    \n",
       "    \n",
       "    <tr>\n",
       "        <th>Filenames</th>\n",
       "        <td>A01E.gdf</td>\n",
       "    </tr>\n",
       "    \n",
       "    <tr>\n",
       "        <th>Duration</th>\n",
       "        <td>00:45:47 (HH:MM:SS)</td>\n",
       "    </tr>\n",
       "</table>"
      ],
      "text/plain": [
       "<RawGDF | A01E.gdf, 22 x 687000 (2748.0 s), ~26 kB, data not loaded>"
      ]
     },
     "execution_count": 2,
     "metadata": {},
     "output_type": "execute_result"
    }
   ],
   "source": [
    "raw=mne.io.read_raw_gdf('BCICIV_2a_gdf/A01E.gdf',\n",
    "                         eog=['EOG-left', 'EOG-central', 'EOG-right'])\n",
    "raw.drop_channels(['EOG-left', 'EOG-central', 'EOG-right'])"
   ]
  },
  {
   "cell_type": "code",
   "execution_count": 108,
   "metadata": {
    "id": "TitH-M4tCYx9"
   },
   "outputs": [],
   "source": [
    "def read_data(path):\n",
    "    raw=mne.io.read_raw_gdf(path,preload=True,\n",
    "                          eog=['EOG-left', 'EOG-central', 'EOG-right'])\n",
    "    raw.drop_channels(['EOG-left', 'EOG-central', 'EOG-right'])\n",
    "    raw.set_eeg_reference()\n",
    "    events=mne.events_from_annotations(raw)\n",
    "    epochs = mne.Epochs(raw, events[0], event_id=[7,8],tmin= 2, tmax=4,baseline=(None,4), on_missing ='warn')\n",
    "    labels=epochs.events[:,-1]\n",
    "    features=epochs.get_data()\n",
    "    return features,labels"
   ]
  },
  {
   "cell_type": "code",
   "execution_count": 109,
   "metadata": {},
   "outputs": [],
   "source": [
    "paths = glob.glob('BCICIV_2a_gdf/*.gdf')"
   ]
  },
  {
   "cell_type": "code",
   "execution_count": 110,
   "metadata": {
    "id": "xW0kIs4CEqlx"
   },
   "outputs": [],
   "source": [
    "%%capture\n",
    "features,labels,groups=[],[],[]\n",
    "paths = glob.glob('BCICIV_2a_gdf/*.gdf')\n",
    "for i in paths:\n",
    "    feature,label=read_data(i)\n",
    "    features.append(feature)\n",
    "    labels.append(label)\n",
    "    groups.append([i]*len(label))"
   ]
  },
  {
   "cell_type": "code",
   "execution_count": 111,
   "metadata": {
    "colab": {
     "base_uri": "https://localhost:8080/"
    },
    "id": "lVYPtkG9JW0V",
    "outputId": "4b94fbd7-7331-49c9-b9e9-f027dc3390d8"
   },
   "outputs": [
    {
     "data": {
      "text/plain": [
       "((3888, 22, 501), (3888,), (3888,))"
      ]
     },
     "execution_count": 111,
     "metadata": {},
     "output_type": "execute_result"
    }
   ],
   "source": [
    "features=np.concatenate(features)\n",
    "labels=np.concatenate(labels)\n",
    "groups=np.concatenate(groups)\n",
    "\n",
    "features.shape,labels.shape,groups.shape"
   ]
  },
  {
   "cell_type": "code",
   "execution_count": 112,
   "metadata": {
    "colab": {
     "base_uri": "https://localhost:8080/"
    },
    "id": "6CXhty7XLz3P",
    "outputId": "89d63f5d-50ad-4c51-a592-e7c006f0c898"
   },
   "outputs": [
    {
     "data": {
      "text/plain": [
       "(array(['BCICIV_2a_gdf\\\\A01E.gdf', 'BCICIV_2a_gdf\\\\A01T.gdf',\n",
       "        'BCICIV_2a_gdf\\\\A02E.gdf', 'BCICIV_2a_gdf\\\\A02T.gdf',\n",
       "        'BCICIV_2a_gdf\\\\A03E.gdf', 'BCICIV_2a_gdf\\\\A03T.gdf',\n",
       "        'BCICIV_2a_gdf\\\\A04E.gdf', 'BCICIV_2a_gdf\\\\A04T.gdf',\n",
       "        'BCICIV_2a_gdf\\\\A05E.gdf', 'BCICIV_2a_gdf\\\\A05T.gdf',\n",
       "        'BCICIV_2a_gdf\\\\A06E.gdf', 'BCICIV_2a_gdf\\\\A06T.gdf',\n",
       "        'BCICIV_2a_gdf\\\\A07E.gdf', 'BCICIV_2a_gdf\\\\A07T.gdf',\n",
       "        'BCICIV_2a_gdf\\\\A08E.gdf', 'BCICIV_2a_gdf\\\\A08T.gdf',\n",
       "        'BCICIV_2a_gdf\\\\A09E.gdf', 'BCICIV_2a_gdf\\\\A09T.gdf'], dtype='<U22'),\n",
       " array([288, 144, 288, 144, 288, 144, 288, 144, 288, 144, 288, 144, 288,\n",
       "        144, 288, 144, 288, 144], dtype=int64))"
      ]
     },
     "execution_count": 112,
     "metadata": {},
     "output_type": "execute_result"
    }
   ],
   "source": [
    "unique, counts = np.unique(groups, return_counts=True)\n",
    "unique, counts"
   ]
  },
  {
   "cell_type": "markdown",
   "metadata": {},
   "source": [
    "# Chronet"
   ]
  },
  {
   "cell_type": "code",
   "execution_count": 113,
   "metadata": {},
   "outputs": [],
   "source": [
    "from sklearn.model_selection import GroupKFold,LeaveOneGroupOut\n",
    "from sklearn.preprocessing import StandardScaler\n",
    "gkf=GroupKFold()\n",
    "from sklearn.base import TransformerMixin,BaseEstimator\n",
    "from sklearn.preprocessing import StandardScaler\n",
    "#https://stackoverflow.com/questions/50125844/how-to-standard-scale-a-3d-matrix\n",
    "class StandardScaler3D(BaseEstimator,TransformerMixin):\n",
    "    #batch, sequence, channels\n",
    "    def __init__(self):\n",
    "        self.scaler = StandardScaler()\n",
    "\n",
    "    def fit(self,X,y=None):\n",
    "        self.scaler.fit(X.reshape(-1, X.shape[2]))\n",
    "        return self\n",
    "\n",
    "    def transform(self,X):\n",
    "        return self.scaler.transform(X.reshape( -1,X.shape[2])).reshape(X.shape)"
   ]
  },
  {
   "cell_type": "code",
   "execution_count": 114,
   "metadata": {},
   "outputs": [],
   "source": [
    "from sklearn import preprocessing\n",
    "from sklearn.model_selection import train_test_split"
   ]
  },
  {
   "cell_type": "code",
   "execution_count": 115,
   "metadata": {},
   "outputs": [],
   "source": [
    "lb = preprocessing.LabelBinarizer()\n",
    "\n",
    "#enc_df= enc.fit_transform(dataset['60'])\n",
    "labels =  lb.fit_transform(labels)"
   ]
  },
  {
   "cell_type": "code",
   "execution_count": 116,
   "metadata": {},
   "outputs": [
    {
     "data": {
      "text/plain": [
       "array([0, 1])"
      ]
     },
     "execution_count": 116,
     "metadata": {},
     "output_type": "execute_result"
    }
   ],
   "source": [
    "np.unique(labels)"
   ]
  },
  {
   "cell_type": "code",
   "execution_count": 149,
   "metadata": {},
   "outputs": [],
   "source": [
    "data_array = features\n",
    "label_array = labels\n",
    "group_array = groups\n",
    "data_array=np.moveaxis(data_array,1,2)"
   ]
  },
  {
   "cell_type": "raw",
   "metadata": {},
   "source": [
    "accuracy=[]\n",
    "for train_index, val_index in gkf.split(data_array, label_array, groups=group_array):\n",
    "    train_features,train_labels=data_array[train_index],label_array[train_index]\n",
    "    val_features,val_labels=data_array[val_index],label_array[val_index]\n",
    "    scaler=StandardScaler3D()\n",
    "    train_features=scaler.fit_transform(train_features)\n",
    "    val_features=scaler.transform(val_features)\n",
    "    break"
   ]
  },
  {
   "cell_type": "code",
   "execution_count": 150,
   "metadata": {},
   "outputs": [],
   "source": [
    "scaler=StandardScaler3D()\n",
    "train_features,val_features,train_labels,val_labels = train_test_split(data_array, label_array, test_size=0.33, random_state=42)\n",
    "train_features=scaler.fit_transform(train_features)\n",
    "val_features=scaler.transform(val_features)"
   ]
  },
  {
   "cell_type": "code",
   "execution_count": 151,
   "metadata": {},
   "outputs": [
    {
     "data": {
      "text/plain": [
       "((2604, 501, 22), (2604, 1))"
      ]
     },
     "execution_count": 151,
     "metadata": {},
     "output_type": "execute_result"
    }
   ],
   "source": [
    "train_features.shape, train_labels.shape"
   ]
  },
  {
   "cell_type": "markdown",
   "metadata": {},
   "source": [
    "# ChronoNet"
   ]
  },
  {
   "cell_type": "code",
   "execution_count": 152,
   "metadata": {},
   "outputs": [],
   "source": [
    "from tensorflow.keras.layers import Input,Dense,concatenate,Flatten,GRU,Conv1D,Dropout,BatchNormalization\n",
    "from tensorflow.keras.models import Model\n",
    "#resource:https://github.com/dll-ncai/eeg_pre-diagnostic_screening/blob/master/code/chro"
   ]
  },
  {
   "cell_type": "code",
   "execution_count": 153,
   "metadata": {},
   "outputs": [],
   "source": [
    "def block(input, dropout_rate):\n",
    "    conv1 = Conv1D(32, 2, strides=2,activation='relu',padding=\"same\")(input)\n",
    "    conv1 = Dropout(dropout_rate)(conv1)\n",
    "    conv1 = BatchNormalization()(conv1)\n",
    "    \n",
    "    conv2 = Conv1D(32, 4, strides=2,activation='relu',padding=\"causal\")(input)\n",
    "    conv2 = Dropout(dropout_rate)(conv2)\n",
    "    conv2 = BatchNormalization()(conv2)\n",
    "    \n",
    "    conv3 = Conv1D(32, 8, strides=2,activation='relu',padding=\"causal\")(input)\n",
    "    conv3 = Dropout(dropout_rate)(conv3)\n",
    "    conv3 = BatchNormalization()(conv3)\n",
    "    x = concatenate([conv1,conv2,conv3],axis=2)\n",
    "    return x"
   ]
  },
  {
   "cell_type": "code",
   "execution_count": 159,
   "metadata": {},
   "outputs": [
    {
     "data": {
      "text/plain": [
       "TensorShape([None, 63, 96])"
      ]
     },
     "execution_count": 159,
     "metadata": {},
     "output_type": "execute_result"
    }
   ],
   "source": [
    "input= Input(shape=(train_features.shape[1],train_features.shape[2]))\n",
    "dropout_rate = 0.4\n",
    "block1=block(input, dropout_rate)\n",
    "block2=block(block1, dropout_rate)\n",
    "block3=block(block2, dropout_rate)\n",
    "block3.shape"
   ]
  },
  {
   "cell_type": "code",
   "execution_count": 160,
   "metadata": {
    "scrolled": false
   },
   "outputs": [],
   "source": [
    "gru_out1 = GRU(32,activation='tanh',return_sequences=True)(block3)\n",
    "gru_out2 = GRU(32,activation='tanh',return_sequences=True)(gru_out1)\n",
    "gru_out = concatenate([gru_out1,gru_out2],axis=2)\n",
    "gru_out3 = GRU(32,activation='tanh',return_sequences=True)(gru_out)\n",
    "gru_out = concatenate([gru_out1,gru_out2,gru_out3])\n",
    "gru_out4 = GRU(32,activation='tanh')(gru_out)"
   ]
  },
  {
   "cell_type": "code",
   "execution_count": 161,
   "metadata": {},
   "outputs": [],
   "source": [
    "predictions = Dense(train_labels.shape[1] ,activation='sigmoid')(gru_out4)\n",
    "model = Model(inputs=input, outputs=predictions)\n",
    "\n",
    "model.compile(optimizer = 'adam', loss = 'binary_crossentropy', metrics=['accuracy'])"
   ]
  },
  {
   "cell_type": "code",
   "execution_count": 162,
   "metadata": {
    "scrolled": false
   },
   "outputs": [
    {
     "name": "stdout",
     "output_type": "stream",
     "text": [
      "Model: \"model_5\"\n",
      "__________________________________________________________________________________________________\n",
      " Layer (type)                   Output Shape         Param #     Connected to                     \n",
      "==================================================================================================\n",
      " input_6 (InputLayer)           [(None, 501, 22)]    0           []                               \n",
      "                                                                                                  \n",
      " conv1d_45 (Conv1D)             (None, 251, 32)      1440        ['input_6[0][0]']                \n",
      "                                                                                                  \n",
      " conv1d_46 (Conv1D)             (None, 251, 32)      2848        ['input_6[0][0]']                \n",
      "                                                                                                  \n",
      " conv1d_47 (Conv1D)             (None, 251, 32)      5664        ['input_6[0][0]']                \n",
      "                                                                                                  \n",
      " dropout_36 (Dropout)           (None, 251, 32)      0           ['conv1d_45[0][0]']              \n",
      "                                                                                                  \n",
      " dropout_37 (Dropout)           (None, 251, 32)      0           ['conv1d_46[0][0]']              \n",
      "                                                                                                  \n",
      " dropout_38 (Dropout)           (None, 251, 32)      0           ['conv1d_47[0][0]']              \n",
      "                                                                                                  \n",
      " batch_normalization_36 (BatchN  (None, 251, 32)     128         ['dropout_36[0][0]']             \n",
      " ormalization)                                                                                    \n",
      "                                                                                                  \n",
      " batch_normalization_37 (BatchN  (None, 251, 32)     128         ['dropout_37[0][0]']             \n",
      " ormalization)                                                                                    \n",
      "                                                                                                  \n",
      " batch_normalization_38 (BatchN  (None, 251, 32)     128         ['dropout_38[0][0]']             \n",
      " ormalization)                                                                                    \n",
      "                                                                                                  \n",
      " concatenate_25 (Concatenate)   (None, 251, 96)      0           ['batch_normalization_36[0][0]', \n",
      "                                                                  'batch_normalization_37[0][0]', \n",
      "                                                                  'batch_normalization_38[0][0]'] \n",
      "                                                                                                  \n",
      " conv1d_48 (Conv1D)             (None, 126, 32)      6176        ['concatenate_25[0][0]']         \n",
      "                                                                                                  \n",
      " conv1d_49 (Conv1D)             (None, 126, 32)      12320       ['concatenate_25[0][0]']         \n",
      "                                                                                                  \n",
      " conv1d_50 (Conv1D)             (None, 126, 32)      24608       ['concatenate_25[0][0]']         \n",
      "                                                                                                  \n",
      " dropout_39 (Dropout)           (None, 126, 32)      0           ['conv1d_48[0][0]']              \n",
      "                                                                                                  \n",
      " dropout_40 (Dropout)           (None, 126, 32)      0           ['conv1d_49[0][0]']              \n",
      "                                                                                                  \n",
      " dropout_41 (Dropout)           (None, 126, 32)      0           ['conv1d_50[0][0]']              \n",
      "                                                                                                  \n",
      " batch_normalization_39 (BatchN  (None, 126, 32)     128         ['dropout_39[0][0]']             \n",
      " ormalization)                                                                                    \n",
      "                                                                                                  \n",
      " batch_normalization_40 (BatchN  (None, 126, 32)     128         ['dropout_40[0][0]']             \n",
      " ormalization)                                                                                    \n",
      "                                                                                                  \n",
      " batch_normalization_41 (BatchN  (None, 126, 32)     128         ['dropout_41[0][0]']             \n",
      " ormalization)                                                                                    \n",
      "                                                                                                  \n",
      " concatenate_26 (Concatenate)   (None, 126, 96)      0           ['batch_normalization_39[0][0]', \n",
      "                                                                  'batch_normalization_40[0][0]', \n",
      "                                                                  'batch_normalization_41[0][0]'] \n",
      "                                                                                                  \n",
      " conv1d_51 (Conv1D)             (None, 63, 32)       6176        ['concatenate_26[0][0]']         \n",
      "                                                                                                  \n",
      " conv1d_52 (Conv1D)             (None, 63, 32)       12320       ['concatenate_26[0][0]']         \n",
      "                                                                                                  \n",
      " conv1d_53 (Conv1D)             (None, 63, 32)       24608       ['concatenate_26[0][0]']         \n",
      "                                                                                                  \n",
      " dropout_42 (Dropout)           (None, 63, 32)       0           ['conv1d_51[0][0]']              \n",
      "                                                                                                  \n",
      " dropout_43 (Dropout)           (None, 63, 32)       0           ['conv1d_52[0][0]']              \n",
      "                                                                                                  \n",
      " dropout_44 (Dropout)           (None, 63, 32)       0           ['conv1d_53[0][0]']              \n",
      "                                                                                                  \n",
      " batch_normalization_42 (BatchN  (None, 63, 32)      128         ['dropout_42[0][0]']             \n",
      " ormalization)                                                                                    \n",
      "                                                                                                  \n",
      " batch_normalization_43 (BatchN  (None, 63, 32)      128         ['dropout_43[0][0]']             \n",
      " ormalization)                                                                                    \n",
      "                                                                                                  \n",
      " batch_normalization_44 (BatchN  (None, 63, 32)      128         ['dropout_44[0][0]']             \n",
      " ormalization)                                                                                    \n",
      "                                                                                                  \n",
      " concatenate_27 (Concatenate)   (None, 63, 96)       0           ['batch_normalization_42[0][0]', \n",
      "                                                                  'batch_normalization_43[0][0]', \n",
      "                                                                  'batch_normalization_44[0][0]'] \n",
      "                                                                                                  \n",
      " gru_20 (GRU)                   (None, 63, 32)       12480       ['concatenate_27[0][0]']         \n",
      "                                                                                                  \n",
      " gru_21 (GRU)                   (None, 63, 32)       6336        ['gru_20[0][0]']                 \n"
     ]
    },
    {
     "name": "stdout",
     "output_type": "stream",
     "text": [
      "                                                                                                  \n",
      " concatenate_28 (Concatenate)   (None, 63, 64)       0           ['gru_20[0][0]',                 \n",
      "                                                                  'gru_21[0][0]']                 \n",
      "                                                                                                  \n",
      " gru_22 (GRU)                   (None, 63, 32)       9408        ['concatenate_28[0][0]']         \n",
      "                                                                                                  \n",
      " concatenate_29 (Concatenate)   (None, 63, 96)       0           ['gru_20[0][0]',                 \n",
      "                                                                  'gru_21[0][0]',                 \n",
      "                                                                  'gru_22[0][0]']                 \n",
      "                                                                                                  \n",
      " gru_23 (GRU)                   (None, 32)           12480       ['concatenate_29[0][0]']         \n",
      "                                                                                                  \n",
      " dense_5 (Dense)                (None, 1)            33          ['gru_23[0][0]']                 \n",
      "                                                                                                  \n",
      "==================================================================================================\n",
      "Total params: 138,049\n",
      "Trainable params: 137,473\n",
      "Non-trainable params: 576\n",
      "__________________________________________________________________________________________________\n"
     ]
    }
   ],
   "source": [
    "model.summary()"
   ]
  },
  {
   "cell_type": "code",
   "execution_count": 163,
   "metadata": {
    "scrolled": false
   },
   "outputs": [
    {
     "name": "stdout",
     "output_type": "stream",
     "text": [
      "Epoch 1/50\n",
      "261/261 [==============================] - 50s 144ms/step - loss: 0.4762 - accuracy: 0.8199 - val_loss: 0.4339 - val_accuracy: 0.8403\n",
      "Epoch 2/50\n",
      "261/261 [==============================] - 36s 136ms/step - loss: 0.4540 - accuracy: 0.8295 - val_loss: 0.4335 - val_accuracy: 0.8403\n",
      "Epoch 3/50\n",
      "261/261 [==============================] - 35s 135ms/step - loss: 0.4518 - accuracy: 0.8299 - val_loss: 0.4575 - val_accuracy: 0.8372\n",
      "Epoch 4/50\n",
      "261/261 [==============================] - 35s 134ms/step - loss: 0.4486 - accuracy: 0.8299 - val_loss: 0.4390 - val_accuracy: 0.8403\n",
      "Epoch 5/50\n",
      "261/261 [==============================] - 35s 134ms/step - loss: 0.4451 - accuracy: 0.8299 - val_loss: 0.4309 - val_accuracy: 0.8411\n",
      "Epoch 6/50\n",
      "261/261 [==============================] - 35s 134ms/step - loss: 0.4371 - accuracy: 0.8299 - val_loss: 0.4322 - val_accuracy: 0.8403\n",
      "Epoch 7/50\n",
      "261/261 [==============================] - 36s 137ms/step - loss: 0.4377 - accuracy: 0.8276 - val_loss: 0.4487 - val_accuracy: 0.8357\n",
      "Epoch 8/50\n",
      "261/261 [==============================] - 36s 139ms/step - loss: 0.4323 - accuracy: 0.8306 - val_loss: 0.4262 - val_accuracy: 0.8403\n",
      "Epoch 9/50\n",
      "261/261 [==============================] - 35s 134ms/step - loss: 0.4192 - accuracy: 0.8306 - val_loss: 0.4420 - val_accuracy: 0.8318\n",
      "Epoch 10/50\n",
      "261/261 [==============================] - 35s 134ms/step - loss: 0.4184 - accuracy: 0.8326 - val_loss: 0.4407 - val_accuracy: 0.8388\n",
      "Epoch 11/50\n",
      "261/261 [==============================] - 35s 134ms/step - loss: 0.4087 - accuracy: 0.8349 - val_loss: 0.4172 - val_accuracy: 0.8411\n",
      "Epoch 12/50\n",
      "261/261 [==============================] - 35s 135ms/step - loss: 0.3982 - accuracy: 0.8333 - val_loss: 0.4383 - val_accuracy: 0.8396\n",
      "Epoch 13/50\n",
      "261/261 [==============================] - 34s 132ms/step - loss: 0.3841 - accuracy: 0.8376 - val_loss: 0.4223 - val_accuracy: 0.8232\n",
      "Epoch 14/50\n",
      "261/261 [==============================] - 34s 130ms/step - loss: 0.3760 - accuracy: 0.8376 - val_loss: 0.4352 - val_accuracy: 0.8372\n",
      "Epoch 15/50\n",
      "261/261 [==============================] - 34s 130ms/step - loss: 0.3593 - accuracy: 0.8487 - val_loss: 0.4600 - val_accuracy: 0.8458\n",
      "Epoch 16/50\n",
      "261/261 [==============================] - 34s 130ms/step - loss: 0.3565 - accuracy: 0.8545 - val_loss: 0.4189 - val_accuracy: 0.8255\n",
      "Epoch 17/50\n",
      "261/261 [==============================] - 34s 130ms/step - loss: 0.3358 - accuracy: 0.8522 - val_loss: 0.4608 - val_accuracy: 0.7780\n",
      "Epoch 18/50\n",
      "261/261 [==============================] - 34s 130ms/step - loss: 0.3253 - accuracy: 0.8644 - val_loss: 0.4028 - val_accuracy: 0.8341\n",
      "Epoch 19/50\n",
      "261/261 [==============================] - 34s 130ms/step - loss: 0.3265 - accuracy: 0.8618 - val_loss: 0.4248 - val_accuracy: 0.8115\n",
      "Epoch 20/50\n",
      "261/261 [==============================] - 40s 152ms/step - loss: 0.3143 - accuracy: 0.8679 - val_loss: 0.4722 - val_accuracy: 0.7531\n",
      "Epoch 21/50\n",
      "261/261 [==============================] - 40s 152ms/step - loss: 0.2943 - accuracy: 0.8783 - val_loss: 0.4013 - val_accuracy: 0.8333\n",
      "Epoch 22/50\n",
      "261/261 [==============================] - 39s 150ms/step - loss: 0.2895 - accuracy: 0.8729 - val_loss: 0.4375 - val_accuracy: 0.8294\n",
      "Epoch 23/50\n",
      "261/261 [==============================] - 39s 148ms/step - loss: 0.2881 - accuracy: 0.8786 - val_loss: 0.4121 - val_accuracy: 0.8411\n",
      "Epoch 24/50\n",
      "261/261 [==============================] - 40s 154ms/step - loss: 0.2805 - accuracy: 0.8806 - val_loss: 0.4672 - val_accuracy: 0.8388\n",
      "Epoch 25/50\n",
      "261/261 [==============================] - 37s 140ms/step - loss: 0.2639 - accuracy: 0.8848 - val_loss: 0.5227 - val_accuracy: 0.8427\n",
      "Epoch 26/50\n",
      "261/261 [==============================] - 35s 133ms/step - loss: 0.2576 - accuracy: 0.8948 - val_loss: 0.4879 - val_accuracy: 0.8442\n",
      "Epoch 27/50\n",
      "261/261 [==============================] - 34s 132ms/step - loss: 0.2480 - accuracy: 0.8998 - val_loss: 0.4397 - val_accuracy: 0.8100\n",
      "Epoch 28/50\n",
      "261/261 [==============================] - 35s 136ms/step - loss: 0.2506 - accuracy: 0.8986 - val_loss: 0.4151 - val_accuracy: 0.8069\n",
      "Epoch 29/50\n",
      "261/261 [==============================] - 38s 144ms/step - loss: 0.2344 - accuracy: 0.9002 - val_loss: 0.4310 - val_accuracy: 0.8248\n",
      "Epoch 30/50\n",
      "261/261 [==============================] - 38s 147ms/step - loss: 0.2149 - accuracy: 0.9051 - val_loss: 0.4583 - val_accuracy: 0.7983\n",
      "Epoch 31/50\n",
      "261/261 [==============================] - 37s 140ms/step - loss: 0.2289 - accuracy: 0.8998 - val_loss: 0.5228 - val_accuracy: 0.7578\n",
      "Epoch 32/50\n",
      "261/261 [==============================] - 37s 141ms/step - loss: 0.2187 - accuracy: 0.9078 - val_loss: 0.5158 - val_accuracy: 0.8287\n",
      "Epoch 33/50\n",
      "261/261 [==============================] - 36s 140ms/step - loss: 0.2199 - accuracy: 0.9028 - val_loss: 0.4794 - val_accuracy: 0.7882\n",
      "Epoch 34/50\n",
      "261/261 [==============================] - 37s 144ms/step - loss: 0.2058 - accuracy: 0.9109 - val_loss: 0.4900 - val_accuracy: 0.8201\n",
      "Epoch 35/50\n",
      "261/261 [==============================] - 37s 142ms/step - loss: 0.1906 - accuracy: 0.9236 - val_loss: 0.4921 - val_accuracy: 0.8255\n",
      "Epoch 36/50\n",
      "261/261 [==============================] - 37s 140ms/step - loss: 0.2103 - accuracy: 0.9155 - val_loss: 0.4808 - val_accuracy: 0.7835\n",
      "Epoch 37/50\n",
      "261/261 [==============================] - 36s 137ms/step - loss: 0.1973 - accuracy: 0.9163 - val_loss: 0.4915 - val_accuracy: 0.8030\n",
      "Epoch 38/50\n",
      "261/261 [==============================] - 37s 141ms/step - loss: 0.1909 - accuracy: 0.9205 - val_loss: 0.5347 - val_accuracy: 0.8310\n",
      "Epoch 39/50\n",
      "261/261 [==============================] - 36s 138ms/step - loss: 0.1890 - accuracy: 0.9286 - val_loss: 0.4685 - val_accuracy: 0.8107\n",
      "Epoch 40/50\n",
      "261/261 [==============================] - 36s 139ms/step - loss: 0.1824 - accuracy: 0.9286 - val_loss: 0.5392 - val_accuracy: 0.7975\n",
      "Epoch 41/50\n",
      "261/261 [==============================] - 36s 136ms/step - loss: 0.1616 - accuracy: 0.9370 - val_loss: 0.5311 - val_accuracy: 0.8037\n",
      "Epoch 42/50\n",
      "261/261 [==============================] - 38s 144ms/step - loss: 0.1790 - accuracy: 0.9270 - val_loss: 0.6067 - val_accuracy: 0.7298\n",
      "Epoch 43/50\n",
      "261/261 [==============================] - 38s 144ms/step - loss: 0.1770 - accuracy: 0.9282 - val_loss: 0.5489 - val_accuracy: 0.7601\n",
      "Epoch 44/50\n",
      "261/261 [==============================] - 35s 136ms/step - loss: 0.1699 - accuracy: 0.9316 - val_loss: 0.5611 - val_accuracy: 0.7967\n",
      "Epoch 45/50\n",
      "261/261 [==============================] - 38s 148ms/step - loss: 0.1691 - accuracy: 0.9263 - val_loss: 0.5083 - val_accuracy: 0.8302\n",
      "Epoch 46/50\n",
      "261/261 [==============================] - 37s 142ms/step - loss: 0.1679 - accuracy: 0.9309 - val_loss: 0.5456 - val_accuracy: 0.8302\n",
      "Epoch 47/50\n",
      "261/261 [==============================] - 34s 130ms/step - loss: 0.1593 - accuracy: 0.9355 - val_loss: 0.5262 - val_accuracy: 0.7921\n",
      "Epoch 48/50\n",
      "261/261 [==============================] - 35s 132ms/step - loss: 0.1573 - accuracy: 0.9363 - val_loss: 0.5195 - val_accuracy: 0.8014\n",
      "Epoch 49/50\n",
      "261/261 [==============================] - 34s 131ms/step - loss: 0.1553 - accuracy: 0.9409 - val_loss: 0.5334 - val_accuracy: 0.8092\n",
      "Epoch 50/50\n",
      "261/261 [==============================] - 34s 131ms/step - loss: 0.1433 - accuracy: 0.9424 - val_loss: 0.5393 - val_accuracy: 0.8294\n"
     ]
    }
   ],
   "source": [
    "chrono_history = model.fit(train_features,train_labels,epochs=50,batch_size=10,validation_data=(val_features,val_labels))"
   ]
  },
  {
   "cell_type": "code",
   "execution_count": 168,
   "metadata": {
    "scrolled": true
   },
   "outputs": [
    {
     "data": {
      "text/plain": [
       "[<matplotlib.lines.Line2D at 0x1d71f3341c0>]"
      ]
     },
     "execution_count": 168,
     "metadata": {},
     "output_type": "execute_result"
    },
    {
     "data": {
      "image/png": "[encoded data removed]",
      "text/plain": [
       "<Figure size 432x288 with 1 Axes>"
      ]
     },
     "metadata": {
      "needs_background": "light"
     },
     "output_type": "display_data"
    }
   ],
   "source": [
    "plt.plot(chrono_history.history[\"accuracy\"])\n",
    "plt.plot(chrono_history.history[\"val_accuracy\"])"
   ]
  },
  {
   "cell_type": "code",
   "execution_count": 169,
   "metadata": {
    "scrolled": true
   },
   "outputs": [
    {
     "data": {
      "text/plain": [
       "[<matplotlib.lines.Line2D at 0x1d71f3924c0>]"
      ]
     },
     "execution_count": 169,
     "metadata": {},
     "output_type": "execute_result"
    },
    {
     "data": {
      "image/png": "[encoded data removed]",
      "text/plain": [
       "<Figure size 432x288 with 1 Axes>"
      ]
     },
     "metadata": {
      "needs_background": "light"
     },
     "output_type": "display_data"
    }
   ],
   "source": [
    "plt.plot(chrono_history.history[\"loss\"])\n",
    "plt.plot(chrono_history.history[\"val_loss\"])"
   ]
  },
  {
   "cell_type": "markdown",
   "metadata": {},
   "source": [
    "# Binary Class Class accuaracies"
   ]
  },
  {
   "cell_type": "code",
   "execution_count": 170,
   "metadata": {},
   "outputs": [
    {
     "name": "stdout",
     "output_type": "stream",
     "text": [
      "              precision    recall  f1-score   support\n",
      "\n",
      "           0       1.00      1.00      1.00      2161\n",
      "           1       0.98      0.98      0.98       443\n",
      "\n",
      "    accuracy                           0.99      2604\n",
      "   macro avg       0.99      0.99      0.99      2604\n",
      "weighted avg       0.99      0.99      0.99      2604\n",
      "\n"
     ]
    },
    {
     "data": {
      "text/plain": [
       "<AxesSubplot:>"
      ]
     },
     "execution_count": 170,
     "metadata": {},
     "output_type": "execute_result"
    },
    {
     "data": {
      "image/png": "[encoded data removed]",
      "text/plain": [
       "<Figure size 432x288 with 2 Axes>"
      ]
     },
     "metadata": {
      "needs_background": "light"
     },
     "output_type": "display_data"
    }
   ],
   "source": [
    "# classification report on training set\n",
    "y_p = []\n",
    "pred = model.predict_on_batch(train_features)\n",
    "pred = pred.reshape(pred.shape[0])\n",
    "for l in pred:\n",
    "    if l>0.5:\n",
    "        y_p.append(1)\n",
    "    else:\n",
    "        y_p.append(0)\n",
    "y_t = train_labels.reshape(train_labels.shape[0])\n",
    "print(classification_report(y_t, y_p))\n",
    "cf_matrix = confusion_matrix(y_t, y_p)\n",
    "sns.heatmap(cf_matrix, annot=True)"
   ]
  },
  {
   "cell_type": "code",
   "execution_count": 172,
   "metadata": {},
   "outputs": [
    {
     "name": "stdout",
     "output_type": "stream",
     "text": [
      "              precision    recall  f1-score   support\n",
      "\n",
      "           0       0.88      0.92      0.90      1079\n",
      "           1       0.45      0.33      0.38       205\n",
      "\n",
      "    accuracy                           0.83      1284\n",
      "   macro avg       0.67      0.63      0.64      1284\n",
      "weighted avg       0.81      0.83      0.82      1284\n",
      "\n"
     ]
    },
    {
     "data": {
      "text/plain": [
       "<AxesSubplot:>"
      ]
     },
     "execution_count": 172,
     "metadata": {},
     "output_type": "execute_result"
    },
    {
     "data": {
      "image/png": "[encoded data removed]",
      "text/plain": [
       "<Figure size 432x288 with 2 Axes>"
      ]
     },
     "metadata": {
      "needs_background": "light"
     },
     "output_type": "display_data"
    }
   ],
   "source": [
    "# classification report on validation set\n",
    "y_p = []\n",
    "pred = model.predict_on_batch(val_features)\n",
    "pred = pred.reshape(pred.shape[0])\n",
    "for l in pred:\n",
    "    if l>0.5:\n",
    "        y_p.append(1)\n",
    "    else:\n",
    "        y_p.append(0)\n",
    "y_t = val_labels.reshape(val_labels.shape[0])\n",
    "print(classification_report(y_t, y_p))\n",
    "cf_matrix = confusion_matrix(y_t, y_p)\n",
    "sns.heatmap(cf_matrix, annot=True)"
   ]
  },
  {
   "cell_type": "markdown",
   "metadata": {},
   "source": [
    "# Multiclass class accuracies"
   ]
  },
  {
   "cell_type": "code",
   "execution_count": 166,
   "metadata": {
    "scrolled": false
   },
   "outputs": [
    {
     "name": "stdout",
     "output_type": "stream",
     "text": [
      "              precision    recall  f1-score   support\n",
      "\n",
      "           0       1.00      1.00      1.00      1284\n",
      "\n",
      "    accuracy                           1.00      1284\n",
      "   macro avg       1.00      1.00      1.00      1284\n",
      "weighted avg       1.00      1.00      1.00      1284\n",
      "\n"
     ]
    },
    {
     "data": {
      "text/plain": [
       "<AxesSubplot:>"
      ]
     },
     "execution_count": 166,
     "metadata": {},
     "output_type": "execute_result"
    },
    {
     "data": {
      "image/png": "[encoded data removed]",
      "text/plain": [
       "<Figure size 432x288 with 2 Axes>"
      ]
     },
     "metadata": {
      "needs_background": "light"
     },
     "output_type": "display_data"
    }
   ],
   "source": [
    "y_t = np.argmax(val_labels, axis=1) # Convert one-hot to index\n",
    "pred = model.predict_on_batch(val_features)\n",
    "y_p = np.argmax(pred,axis=1)\n",
    "print(classification_report(y_t, y_p))\n",
    "cf_matrix = confusion_matrix(y_t, y_p)\n",
    "sns.heatmap(cf_matrix, annot=True)"
   ]
  },
  {
   "cell_type": "code",
   "execution_count": 167,
   "metadata": {},
   "outputs": [
    {
     "name": "stdout",
     "output_type": "stream",
     "text": [
      "              precision    recall  f1-score   support\n",
      "\n",
      "           0       1.00      1.00      1.00      2604\n",
      "\n",
      "    accuracy                           1.00      2604\n",
      "   macro avg       1.00      1.00      1.00      2604\n",
      "weighted avg       1.00      1.00      1.00      2604\n",
      "\n"
     ]
    },
    {
     "data": {
      "text/plain": [
       "<AxesSubplot:>"
      ]
     },
     "execution_count": 167,
     "metadata": {},
     "output_type": "execute_result"
    },
    {
     "data": {
      "image/png": "[encoded data removed]",
      "text/plain": [
       "<Figure size 432x288 with 2 Axes>"
      ]
     },
     "metadata": {
      "needs_background": "light"
     },
     "output_type": "display_data"
    }
   ],
   "source": [
    "y_t = np.argmax(train_labels, axis=1) # Convert one-hot to index\n",
    "pred = model.predict_on_batch(train_features)\n",
    "y_p = np.argmax(pred,axis=1)\n",
    "print(classification_report(y_t, y_p))\n",
    "cf_matrix = confusion_matrix(y_t, y_p)\n",
    "sns.heatmap(cf_matrix, annot=True)"
   ]
  },
  {
   "cell_type": "code",
   "execution_count": 85,
   "metadata": {},
   "outputs": [],
   "source": [
    "y_p = model.predict_on_batch(val_features)"
   ]
  },
  {
   "cell_type": "code",
   "execution_count": 96,
   "metadata": {},
   "outputs": [
    {
     "data": {
      "text/plain": [
       "199"
      ]
     },
     "execution_count": 96,
     "metadata": {},
     "output_type": "execute_result"
    }
   ],
   "source": [
    "np.count_nonzero(val_labels)"
   ]
  },
  {
   "cell_type": "code",
   "execution_count": null,
   "metadata": {},
   "outputs": [],
   "source": []
  }
 ],
 "metadata": {
  "colab": {
   "collapsed_sections": [],
   "name": "BCI Competition 2008 – Graz data set A.ipynb",
   "provenance": []
  },
  "kernelspec": {
   "display_name": "Python 3",
   "language": "python",
   "name": "python3"
  },
  "language_info": {
   "codemirror_mode": {
    "name": "ipython",
    "version": 3
   },
   "file_extension": ".py",
   "mimetype": "text/x-python",
   "name": "python",
   "nbconvert_exporter": "python",
   "pygments_lexer": "ipython3",
   "version": "3.8.10"
  }
 },
 "nbformat": 4,
 "nbformat_minor": 1
}
